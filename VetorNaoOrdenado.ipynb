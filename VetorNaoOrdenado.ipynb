{
  "nbformat": 4,
  "nbformat_minor": 0,
  "metadata": {
    "colab": {
      "name": "VetorNaoOrdenado.ipynb",
      "provenance": [],
      "collapsed_sections": []
    },
    "kernelspec": {
      "name": "python3",
      "display_name": "Python 3"
    },
    "language_info": {
      "name": "python"
    }
  },
  "cells": [
    {
      "cell_type": "markdown",
      "source": [
        "#Vetor não ordenado"
      ],
      "metadata": {
        "id": "LRhkRNOayjp4"
      }
    },
    {
      "cell_type": "code",
      "source": [
        "import numpy as np"
      ],
      "metadata": {
        "id": "zkBlR53Wx0TG"
      },
      "execution_count": 14,
      "outputs": []
    },
    {
      "cell_type": "code",
      "execution_count": 88,
      "metadata": {
        "id": "TDI2KeOG3ljp"
      },
      "outputs": [],
      "source": [
        "class VetorNaoOrdenado:\n",
        "\n",
        "  def __init__(self, capacidade):\n",
        "      self.capacidade = capacidade\n",
        "      self.ultimaPosicao = -1\n",
        "      self.dados = np.empty(self.capacidade, dtype=int)\n",
        "\n",
        "  def insere(self, valor):\n",
        "    \n",
        "    if self.ultimaPosicao == self.capacidade -1:\n",
        "      print('Capacidade máxima do vetor atingida')\n",
        "    else:\n",
        "      self.ultimaPosicao += 1\n",
        "      self.dados[self.ultimaPosicao] = valor\n",
        "\n",
        "  def pesquisa(self, valor):\n",
        "    \n",
        "    if self.ultimaPosicao == -1:\n",
        "      return('O vetor está vazio')\n",
        "\n",
        "    for i in range(self.ultimaPosicao + 1):\n",
        "      if self.dados[i] == valor:\n",
        "        return i\n",
        "\n",
        "    return -1\n",
        "\n",
        "  def exclui(self, valor):\n",
        "    \n",
        "    if self.ultimaPosicao == -1:\n",
        "      return('O vetor está vazio')\n",
        "\n",
        "    posicao = self.pesquisa(valor)\n",
        "\n",
        "    if posicao == -1:\n",
        "      return -1\n",
        "\n",
        "    else:\n",
        "\n",
        "      for i in range(posicao, self.ultimaPosicao):\n",
        "        self.dados[i] = self.dados[i + 1]\n",
        "      \n",
        "      self.ultimaPosicao -= 1\n",
        "\n",
        "    return('Valor excluido')\n",
        "\n",
        "  def imprime(self):\n",
        "    if self.ultimaPosicao == -1:\n",
        "      print('O vetor está vazio')\n",
        "    else:\n",
        "      for i in range(self.ultimaPosicao + 1):\n",
        "        print(i, ' - ', self.dados[i])"
      ]
    },
    {
      "cell_type": "code",
      "source": [
        "vetor = VetorNaoOrdenado(5)\n",
        "vetor.insere(3)\n",
        "vetor.insere(2)\n",
        "vetor.insere(1)\n",
        "vetor.insere(4)\n",
        "vetor.insere(5)\n",
        "\n",
        "vetor.imprime()"
      ],
      "metadata": {
        "id": "wuVuQhwQ4IEr",
        "colab": {
          "base_uri": "https://localhost:8080/"
        },
        "outputId": "e8ae404d-e214-43ac-b6db-e5b97e0559b1"
      },
      "execution_count": 96,
      "outputs": [
        {
          "output_type": "stream",
          "name": "stdout",
          "text": [
            "0  -  3\n",
            "1  -  2\n",
            "2  -  1\n",
            "3  -  4\n",
            "4  -  5\n"
          ]
        }
      ]
    },
    {
      "cell_type": "code",
      "source": [
        "vetor.insere(6)\n",
        "\n",
        "vetor.imprime()\n",
        "\n",
        "#print(vetor.ultimaPosicao)\n"
      ],
      "metadata": {
        "colab": {
          "base_uri": "https://localhost:8080/"
        },
        "id": "CkY7ecZFxyuI",
        "outputId": "f5678c13-97a8-47ab-dd6e-95a3770d61f6"
      },
      "execution_count": 62,
      "outputs": [
        {
          "output_type": "stream",
          "name": "stdout",
          "text": [
            "Capacidade máxima do vetor atingida\n",
            "0  -  3\n",
            "1  -  2\n",
            "2  -  1\n",
            "3  -  4\n",
            "4  -  5\n"
          ]
        }
      ]
    },
    {
      "cell_type": "code",
      "source": [
        "print(vetor.ultimaPosicao)"
      ],
      "metadata": {
        "colab": {
          "base_uri": "https://localhost:8080/"
        },
        "id": "uhpSZzVqwsQD",
        "outputId": "ac20435a-832e-41bc-f6e0-f7463328c1b0"
      },
      "execution_count": 59,
      "outputs": [
        {
          "output_type": "stream",
          "name": "stdout",
          "text": [
            "4\n"
          ]
        }
      ]
    },
    {
      "cell_type": "code",
      "source": [
        "vetor = VetorNaoOrdenado(5)\n",
        "vetor.pesquisa(3)"
      ],
      "metadata": {
        "colab": {
          "base_uri": "https://localhost:8080/",
          "height": 35
        },
        "id": "IwnKWbZF3tnB",
        "outputId": "8287122e-2c51-4d4f-cff9-63eab1a9188a"
      },
      "execution_count": 93,
      "outputs": [
        {
          "output_type": "execute_result",
          "data": {
            "text/plain": [
              "'O vetor está vazio'"
            ],
            "application/vnd.google.colaboratory.intrinsic+json": {
              "type": "string"
            }
          },
          "metadata": {},
          "execution_count": 93
        }
      ]
    },
    {
      "cell_type": "code",
      "source": [
        "vetor.exclui(1)"
      ],
      "metadata": {
        "colab": {
          "base_uri": "https://localhost:8080/",
          "height": 35
        },
        "id": "Pc1Ehkeu5PWU",
        "outputId": "e56224b5-261c-4273-9ee1-2ee49901137a"
      },
      "execution_count": 97,
      "outputs": [
        {
          "output_type": "execute_result",
          "data": {
            "text/plain": [
              "'Valor excluido'"
            ],
            "application/vnd.google.colaboratory.intrinsic+json": {
              "type": "string"
            }
          },
          "metadata": {},
          "execution_count": 97
        }
      ]
    },
    {
      "cell_type": "code",
      "source": [
        "vetor.imprime()"
      ],
      "metadata": {
        "colab": {
          "base_uri": "https://localhost:8080/"
        },
        "id": "kUdMTRWE8AWo",
        "outputId": "f53c3caa-5fae-4b2e-9a8f-81a22d20e2f2"
      },
      "execution_count": 100,
      "outputs": [
        {
          "output_type": "stream",
          "name": "stdout",
          "text": [
            "0  -  3\n",
            "1  -  2\n",
            "2  -  4\n",
            "3  -  5\n",
            "4  -  9\n"
          ]
        }
      ]
    },
    {
      "cell_type": "code",
      "source": [
        "vetor.insere(9)"
      ],
      "metadata": {
        "id": "58K0gd0q8CmQ"
      },
      "execution_count": 99,
      "outputs": []
    },
    {
      "cell_type": "code",
      "source": [
        ""
      ],
      "metadata": {
        "id": "IoBFKUDB---i"
      },
      "execution_count": null,
      "outputs": []
    }
  ]
}